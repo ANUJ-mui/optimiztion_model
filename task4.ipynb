{
 "cells": [
  {
   "cell_type": "code",
   "execution_count": 1,
   "id": "8fdb093f-ec5b-4add-b608-fa6bd449209d",
   "metadata": {},
   "outputs": [
    {
     "name": "stdout",
     "output_type": "stream",
     "text": [
      "Defaulting to user installation because normal site-packages is not writeable\n",
      "Requirement already satisfied: pulp in c:\\users\\anuja\\appdata\\roaming\\python\\python312\\site-packages (3.2.2)\n"
     ]
    }
   ],
   "source": [
    "!pip install pulp\n"
   ]
  },
  {
   "cell_type": "code",
   "execution_count": 2,
   "id": "30828679-878c-418e-a508-0d5e97c7f6a0",
   "metadata": {},
   "outputs": [],
   "source": [
    "# Import PuLP library\n",
    "from pulp import LpMaximize, LpProblem, LpVariable, value"
   ]
  },
  {
   "cell_type": "code",
   "execution_count": 3,
   "id": "ff1d954a-5fc7-451b-9ce8-da032eb230a9",
   "metadata": {},
   "outputs": [],
   "source": [
    "# Step 1: Create a Linear Programming Model\n",
    "model = LpProblem(name=\"product-optimization\", sense=LpMaximize)"
   ]
  },
  {
   "cell_type": "code",
   "execution_count": 4,
   "id": "fab9e0a5-e1ec-486f-a229-5792d34950a4",
   "metadata": {},
   "outputs": [],
   "source": [
    "# Step 2: Define the Decision Variables\n",
    "x = LpVariable(name=\"Product_A\", lowBound=0, cat='Integer')\n",
    "y = LpVariable(name=\"Product_B\", lowBound=0, cat='Integer')"
   ]
  },
  {
   "cell_type": "code",
   "execution_count": 5,
   "id": "74e0267f-a2e6-459c-85f9-e41be0ff12c3",
   "metadata": {},
   "outputs": [],
   "source": [
    "# Step 3: Add Constraints\n",
    "model += (2 * x + 4 * y <= 100, \"MachineTime\")\n",
    "model += (3 * x + y <= 90, \"RawMaterial\")\n"
   ]
  },
  {
   "cell_type": "code",
   "execution_count": 6,
   "id": "a3915845-886e-42fb-b99f-6355aa732947",
   "metadata": {},
   "outputs": [],
   "source": [
    "# Step 4: Define the Objective Function\n",
    "model += 40 * x + 30 * y  # Maximize profit"
   ]
  },
  {
   "cell_type": "code",
   "execution_count": 7,
   "id": "62cbb43b-ed56-4170-a61b-51c78318dfdc",
   "metadata": {},
   "outputs": [
    {
     "data": {
      "text/plain": [
       "1"
      ]
     },
     "execution_count": 7,
     "metadata": {},
     "output_type": "execute_result"
    }
   ],
   "source": [
    "# Step 5: Solve the Model\n",
    "model.solve()"
   ]
  },
  {
   "cell_type": "code",
   "execution_count": 8,
   "id": "c076ed14-e2e4-44f5-9b04-e3ff335322ca",
   "metadata": {},
   "outputs": [
    {
     "name": "stdout",
     "output_type": "stream",
     "text": [
      "Optimal number of Product A to produce: 26.0\n",
      "Optimal number of Product B to produce: 12.0\n",
      "Maximum Profit: ₹1400.0\n"
     ]
    }
   ],
   "source": [
    "# Step 6: Display the Results\n",
    "print(f\"Optimal number of Product A to produce: {x.value()}\")\n",
    "print(f\"Optimal number of Product B to produce: {y.value()}\")\n",
    "print(f\"Maximum Profit: ₹{value(model.objective)}\")"
   ]
  },
  {
   "cell_type": "code",
   "execution_count": null,
   "id": "cd3a091f-491f-4e8b-ac4f-e6bf9e7d1d26",
   "metadata": {},
   "outputs": [],
   "source": []
  }
 ],
 "metadata": {
  "kernelspec": {
   "display_name": "Python [conda env:base] *",
   "language": "python",
   "name": "conda-base-py"
  },
  "language_info": {
   "codemirror_mode": {
    "name": "ipython",
    "version": 3
   },
   "file_extension": ".py",
   "mimetype": "text/x-python",
   "name": "python",
   "nbconvert_exporter": "python",
   "pygments_lexer": "ipython3",
   "version": "3.12.7"
  }
 },
 "nbformat": 4,
 "nbformat_minor": 5
}
